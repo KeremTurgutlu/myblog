{
 "cells": [
  {
   "cell_type": "markdown",
   "metadata": {},
   "source": [
    "# \"PixelShuffle: Yet Another Machine Learning Blog\"\n",
    "> This is an introductory post for my personal blog: PixelShuffle.\n",
    "\n",
    "- toc: true \n",
    "- badges: true\n",
    "- comments: true\n",
    "- categories: [intro]\n",
    "- image: "
   ]
  },
  {
   "cell_type": "markdown",
   "metadata": {},
   "source": [
    "Name comes from [pixel shuffle paper](https://arxiv.org/pdf/1609.05158.pdf) as my research and experience mostly focuses on computer vision. Besides, I wasn't too picky about the name 😊"
   ]
  },
  {
   "cell_type": "markdown",
   "metadata": {},
   "source": [
    "Here is a youtube video where Jeremy explains what PixelShuffle layer is:\n",
    "> youtube: https://youtu.be/nG3tT31nPmQ?t=2276"
   ]
  },
  {
   "cell_type": "markdown",
   "metadata": {},
   "source": [
    "# About"
   ]
  },
  {
   "cell_type": "code",
   "execution_count": null,
   "metadata": {},
   "outputs": [],
   "source": []
  },
  {
   "cell_type": "markdown",
   "metadata": {},
   "source": [
    "# Why not post on Medium?"
   ]
  },
  {
   "cell_type": "markdown",
   "metadata": {},
   "source": [
    "I started blogging on Medium because it was a very fast and easy way to create and share content. Unfortunately, recently I started getting annoying blocker messages from Medium telling me to pay if I want to continue reading blog posts. "
   ]
  },
  {
   "cell_type": "markdown",
   "metadata": {},
   "source": [
    "![](images/you_read_alot.png)"
   ]
  },
  {
   "cell_type": "markdown",
   "metadata": {},
   "source": [
    "Eventhough, you can quickly work around this annoying message by disabling cookies through using your browser's incognito mode it's still a matter of taking a stand. I believe in open source philosophy, free education and equal rights for access to information. This is why I am putting all my blog posts down on Medium and migrating them to here."
   ]
  },
  {
   "cell_type": "code",
   "execution_count": null,
   "metadata": {},
   "outputs": [],
   "source": []
  }
 ],
 "metadata": {
  "kernelspec": {
   "display_name": "Python 3",
   "language": "python",
   "name": "python3"
  },
  "language_info": {
   "codemirror_mode": {
    "name": "ipython",
    "version": 3
   },
   "file_extension": ".py",
   "mimetype": "text/x-python",
   "name": "python",
   "nbconvert_exporter": "python",
   "pygments_lexer": "ipython3",
   "version": "3.7.1"
  }
 },
 "nbformat": 4,
 "nbformat_minor": 2
}
