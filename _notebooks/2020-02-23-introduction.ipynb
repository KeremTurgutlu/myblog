{
 "cells": [
  {
   "cell_type": "markdown",
   "metadata": {},
   "source": [
    "# \"PixelShuffle: Yet Another Machine Learning Blog\"\n",
    "\n",
    "> This is an introductory post for my personal blog\n",
    "\n",
    "- toc: true\n",
    "- badges: true\n",
    "- comments: true\n",
    "- categories: [intro]"
   ]
  },
  {
   "cell_type": "markdown",
   "metadata": {},
   "source": [
    "# What is PixelShuffle?"
   ]
  },
  {
   "cell_type": "markdown",
   "metadata": {},
   "source": [
    "PixelShuffle is the name of this blog and also a very efficient upsampling layer in a CNN. For more check out the [pixel shuffle paper](https://arxiv.org/pdf/1609.05158.pdf). Since my research and experience focuses mostly on computer vision I thought it would be cool to name it like this. Besides, I wasn't too picky about it 😊"
   ]
  },
  {
   "cell_type": "markdown",
   "metadata": {},
   "source": [
    "Here is a youtube video where Jeremy explains what PixelShuffle layer is:\n",
    "> youtube: https://youtu.be/nG3tT31nPmQ?t=2279"
   ]
  },
  {
   "cell_type": "markdown",
   "metadata": {},
   "source": [
    "# Why not post on Medium?"
   ]
  },
  {
   "cell_type": "markdown",
   "metadata": {},
   "source": [
    "## a) It's not free "
   ]
  },
  {
   "cell_type": "markdown",
   "metadata": {},
   "source": [
    "I started blogging on Medium because it was a very fast and easy way to create and share content. Unfortunately, recently I started getting annoying blocker messages from Medium telling me to pay if I want to continue reading blog posts. "
   ]
  },
  {
   "cell_type": "markdown",
   "metadata": {},
   "source": [
    "![](introduction/you_read_alot.png)"
   ]
  },
  {
   "cell_type": "markdown",
   "metadata": {},
   "source": [
    "Even though, you can quickly work around this annoying message by disabling cookies through using your browser's incognito mode it's still a matter of taking a stand. I believe in open source philosophy, free education and equal rights for access to information. This is why I am putting all my blog posts down on Medium and migrating them to here."
   ]
  },
  {
   "cell_type": "markdown",
   "metadata": {},
   "source": [
    "## b) fastpages is way cooler"
   ]
  },
  {
   "cell_type": "markdown",
   "metadata": {},
   "source": [
    "Also by using [fastpages](https://github.com/fastai/fastpages) we will have the full power of notebooks to create very cool blog posts!"
   ]
  },
  {
   "cell_type": "code",
   "execution_count": 1,
   "metadata": {},
   "outputs": [
    {
     "name": "stdout",
     "output_type": "stream",
     "text": [
      "Welcome to my blog!\n"
     ]
    }
   ],
   "source": [
    "#collapse\n",
    "print(\"Welcome to my blog!\")"
   ]
  },
  {
   "cell_type": "markdown",
   "metadata": {},
   "source": [
    "## What to expect?"
   ]
  },
  {
   "cell_type": "markdown",
   "metadata": {},
   "source": [
    "I will be posting about deep learning and machine learning related topics. Feel free to leave tips, questions or any suggestions in comments below any post.\n",
    "\n",
    "Hope you will enjoy!"
   ]
  },
  {
   "cell_type": "code",
   "execution_count": null,
   "metadata": {},
   "outputs": [],
   "source": []
  },
  {
   "cell_type": "code",
   "execution_count": null,
   "metadata": {},
   "outputs": [],
   "source": []
  }
 ],
 "metadata": {
  "kernelspec": {
   "display_name": "Python 3",
   "language": "python",
   "name": "python3"
  },
  "language_info": {
   "codemirror_mode": {
    "name": "ipython",
    "version": 3
   },
   "file_extension": ".py",
   "mimetype": "text/x-python",
   "name": "python",
   "nbconvert_exporter": "python",
   "pygments_lexer": "ipython3",
   "version": "3.7.1"
  }
 },
 "nbformat": 4,
 "nbformat_minor": 2
}
